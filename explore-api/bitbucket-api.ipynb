{
 "cells": [
  {
   "cell_type": "code",
   "execution_count": 2,
   "metadata": {
    "collapsed": true
   },
   "outputs": [],
   "source": [
    "import json\n",
    "import os\n",
    "from typing import Any, Dict, NamedTuple\n",
    "import urllib\n",
    "\n",
    "import requests"
   ]
  },
  {
   "cell_type": "code",
   "execution_count": null,
   "metadata": {
    "collapsed": true
   },
   "outputs": [],
   "source": []
  },
  {
   "cell_type": "code",
   "execution_count": 78,
   "metadata": {},
   "outputs": [],
   "source": [
    "_HEADERS = {\n",
    "    'User-Agent': 'Aggregit',\n",
    "}"
   ]
  },
  {
   "cell_type": "code",
   "execution_count": null,
   "metadata": {
    "collapsed": true
   },
   "outputs": [],
   "source": []
  },
  {
   "cell_type": "markdown",
   "metadata": {},
   "source": [
    "## My repo"
   ]
  },
  {
   "cell_type": "code",
   "execution_count": 197,
   "metadata": {
    "collapsed": true
   },
   "outputs": [],
   "source": [
    "r = requests.get('https://api.bitbucket.org/2.0/repositories/pygame')"
   ]
  },
  {
   "cell_type": "code",
   "execution_count": 198,
   "metadata": {},
   "outputs": [
    {
     "data": {
      "text/plain": [
       "dict_keys(['pagelen', 'values', 'page', 'size'])"
      ]
     },
     "execution_count": 198,
     "metadata": {},
     "output_type": "execute_result"
    }
   ],
   "source": [
    "r.json().keys()"
   ]
  },
  {
   "cell_type": "markdown",
   "metadata": {},
   "source": [
    "## Sample record"
   ]
  },
  {
   "cell_type": "code",
   "execution_count": 199,
   "metadata": {
    "scrolled": false
   },
   "outputs": [
    {
     "data": {
      "text/plain": [
       "{'created_on': '2011-08-03T11:32:56.437822+00:00',\n",
       " 'description': 'Moved to github. https://github.com/pygame/pygame',\n",
       " 'fork_policy': 'allow_forks',\n",
       " 'full_name': 'pygame/pygame',\n",
       " 'has_issues': True,\n",
       " 'has_wiki': True,\n",
       " 'is_private': False,\n",
       " 'language': 'python',\n",
       " 'links': {'avatar': {'href': 'https://bitbucket.org/pygame/pygame/avatar/32/'},\n",
       "  'branches': {'href': 'https://api.bitbucket.org/2.0/repositories/pygame/pygame/refs/branches'},\n",
       "  'clone': [{'href': 'https://bitbucket.org/pygame/pygame', 'name': 'https'},\n",
       "   {'href': 'ssh://hg@bitbucket.org/pygame/pygame', 'name': 'ssh'}],\n",
       "  'commits': {'href': 'https://api.bitbucket.org/2.0/repositories/pygame/pygame/commits'},\n",
       "  'downloads': {'href': 'https://api.bitbucket.org/2.0/repositories/pygame/pygame/downloads'},\n",
       "  'forks': {'href': 'https://api.bitbucket.org/2.0/repositories/pygame/pygame/forks'},\n",
       "  'hooks': {'href': 'https://api.bitbucket.org/2.0/repositories/pygame/pygame/hooks'},\n",
       "  'html': {'href': 'https://bitbucket.org/pygame/pygame'},\n",
       "  'issues': {'href': 'https://api.bitbucket.org/2.0/repositories/pygame/pygame/issues'},\n",
       "  'pullrequests': {'href': 'https://api.bitbucket.org/2.0/repositories/pygame/pygame/pullrequests'},\n",
       "  'self': {'href': 'https://api.bitbucket.org/2.0/repositories/pygame/pygame'},\n",
       "  'source': {'href': 'https://api.bitbucket.org/2.0/repositories/pygame/pygame/src'},\n",
       "  'tags': {'href': 'https://api.bitbucket.org/2.0/repositories/pygame/pygame/refs/tags'},\n",
       "  'watchers': {'href': 'https://api.bitbucket.org/2.0/repositories/pygame/pygame/watchers'}},\n",
       " 'mainbranch': {'name': 'default', 'type': 'named_branch'},\n",
       " 'name': 'pygame',\n",
       " 'owner': {'display_name': 'pygame',\n",
       "  'links': {'avatar': {'href': 'https://bitbucket.org/account/pygame/avatar/32/'},\n",
       "   'html': {'href': 'https://bitbucket.org/pygame/'},\n",
       "   'self': {'href': 'https://api.bitbucket.org/2.0/teams/pygame'}},\n",
       "  'type': 'team',\n",
       "  'username': 'pygame',\n",
       "  'uuid': '{d1a9b1fa-4283-48e6-81fb-2b5ef3d1cd1c}'},\n",
       " 'project': {'key': 'PROJ',\n",
       "  'links': {'avatar': {'href': 'https://bitbucket.org/account/user/pygame/projects/PROJ/avatar/32'},\n",
       "   'html': {'href': 'https://bitbucket.org/account/user/pygame/projects/PROJ'},\n",
       "   'self': {'href': 'https://api.bitbucket.org/2.0/teams/pygame/projects/PROJ'}},\n",
       "  'name': 'pygame',\n",
       "  'type': 'project',\n",
       "  'uuid': '{3922d2b1-44e4-4da5-8644-9110526b1951}'},\n",
       " 'scm': 'hg',\n",
       " 'size': 19512831,\n",
       " 'slug': 'pygame',\n",
       " 'type': 'repository',\n",
       " 'updated_on': '2017-04-02T10:19:38.410595+00:00',\n",
       " 'uuid': '{e2bbb438-1d63-4a1b-b6a2-61712d70f518}',\n",
       " 'website': 'https://github.com/pygame/pygame'}"
      ]
     },
     "execution_count": 199,
     "metadata": {},
     "output_type": "execute_result"
    }
   ],
   "source": [
    "r.json()['values'][0]"
   ]
  },
  {
   "cell_type": "code",
   "execution_count": null,
   "metadata": {
    "collapsed": true
   },
   "outputs": [],
   "source": []
  },
  {
   "cell_type": "markdown",
   "metadata": {},
   "source": [
    "## Helper functions"
   ]
  },
  {
   "cell_type": "code",
   "execution_count": null,
   "metadata": {
    "collapsed": true
   },
   "outputs": [],
   "source": [
    "def get_all_items(endpoint):\n",
    "    all_items = []\n",
    "\n",
    "    url = endpoint # first page\n",
    "    while True:\n",
    "        r = requests.get(url)\n",
    "\n",
    "        all_items.extend(r.json()['values'])\n",
    "\n",
    "        if 'next' in r.json():\n",
    "            url = r.json()['next']\n",
    "        else:\n",
    "            return all_items"
   ]
  },
  {
   "cell_type": "code",
   "execution_count": null,
   "metadata": {
    "collapsed": true
   },
   "outputs": [],
   "source": []
  },
  {
   "cell_type": "markdown",
   "metadata": {},
   "source": [
    "## Get all data"
   ]
  },
  {
   "cell_type": "code",
   "execution_count": 109,
   "metadata": {
    "collapsed": true
   },
   "outputs": [],
   "source": [
    "def get_all_items(endpoint):\n",
    "    all_items = []\n",
    "\n",
    "    url = endpoint # first page\n",
    "    while True:\n",
    "        r = requests.get(url)\n",
    "\n",
    "        all_items.extend(r.json()['values'])\n",
    "\n",
    "        if 'next' in r.json():\n",
    "            url = r.json()['next']\n",
    "        else:\n",
    "            return all_items"
   ]
  },
  {
   "cell_type": "code",
   "execution_count": null,
   "metadata": {},
   "outputs": [],
   "source": []
  },
  {
   "cell_type": "code",
   "execution_count": 172,
   "metadata": {},
   "outputs": [],
   "source": [
    "all_repos = get_all_items('https://api.bitbucket.org/2.0/repositories/alysivji')"
   ]
  },
  {
   "cell_type": "code",
   "execution_count": 173,
   "metadata": {},
   "outputs": [],
   "source": [
    "originals = [repo for repo in all_repos if 'parent' not in repo]\n",
    "forks = [repo for repo in all_repos if 'parent' in repo]\n",
    "\n",
    "assert len(originals) + len(forks) == len(all_repos)"
   ]
  },
  {
   "cell_type": "code",
   "execution_count": 174,
   "metadata": {},
   "outputs": [
    {
     "name": "stdout",
     "output_type": "stream",
     "text": [
      "Total Num of Original Repos: 11\n",
      "Total Num of Forked Repos: 2\n"
     ]
    }
   ],
   "source": [
    "print(f'Total Num of Original Repos: {len(originals)}')\n",
    "print(f'Total Num of Forked Repos: {len(forks)}')"
   ]
  },
  {
   "cell_type": "code",
   "execution_count": null,
   "metadata": {
    "collapsed": true
   },
   "outputs": [],
   "source": []
  },
  {
   "cell_type": "code",
   "execution_count": 175,
   "metadata": {
    "collapsed": true
   },
   "outputs": [],
   "source": [
    "watcher_endpoints = [repo['links']['watchers']['href'] for repo in all_repos]"
   ]
  },
  {
   "cell_type": "code",
   "execution_count": 176,
   "metadata": {},
   "outputs": [],
   "source": [
    "total_watchers = 0\n",
    "\n",
    "for endpoint in watcher_endpoints:\n",
    "    r = requests.get(endpoint, headers=_HEADERS)\n",
    "    total_watchers += r.json()['size'] # pull from metadata"
   ]
  },
  {
   "cell_type": "code",
   "execution_count": 177,
   "metadata": {},
   "outputs": [
    {
     "name": "stdout",
     "output_type": "stream",
     "text": [
      "Total Num of Watchers: 12\n"
     ]
    }
   ],
   "source": [
    "print(f'Total Num of Watchers: {total_watchers}')"
   ]
  },
  {
   "cell_type": "code",
   "execution_count": null,
   "metadata": {
    "collapsed": true
   },
   "outputs": [],
   "source": []
  },
  {
   "cell_type": "code",
   "execution_count": 178,
   "metadata": {},
   "outputs": [],
   "source": [
    "issues_endpoints = [repo['links']['issues']['href']\n",
    "                    for repo in all_repos\n",
    "                    if repo['has_issues'] is True]"
   ]
  },
  {
   "cell_type": "code",
   "execution_count": 179,
   "metadata": {},
   "outputs": [],
   "source": [
    "all_issues = []\n",
    "\n",
    "for endpoint in issues_endpoints:\n",
    "    issues = get_all_items(endpoint)\n",
    "    all_issues.extend(issues)"
   ]
  },
  {
   "cell_type": "code",
   "execution_count": 180,
   "metadata": {},
   "outputs": [],
   "source": [
    "open_issues = [issue for issue in all_issues\n",
    "               if issue['state'] in ['new', 'open']]"
   ]
  },
  {
   "cell_type": "code",
   "execution_count": 181,
   "metadata": {},
   "outputs": [
    {
     "name": "stdout",
     "output_type": "stream",
     "text": [
      "Total Num of Open Issues: 0\n"
     ]
    }
   ],
   "source": [
    "print(f'Total Num of Open Issues: {len(open_issues)}')"
   ]
  },
  {
   "cell_type": "code",
   "execution_count": null,
   "metadata": {
    "collapsed": true
   },
   "outputs": [],
   "source": []
  },
  {
   "cell_type": "code",
   "execution_count": 185,
   "metadata": {},
   "outputs": [],
   "source": [
    "commit_endpoints = [repo['links']['commits']['href']\n",
    "                    for repo in all_repos\n",
    "                    if 'parent' not in repo]"
   ]
  },
  {
   "cell_type": "code",
   "execution_count": 187,
   "metadata": {},
   "outputs": [],
   "source": [
    "all_commits = []\n",
    "\n",
    "for endpoint in commit_endpoints:\n",
    "    commits = get_all_items(endpoint)\n",
    "    all_commits.extend(commits)"
   ]
  },
  {
   "cell_type": "markdown",
   "metadata": {},
   "source": [
    "total number of commits to their repos (not forks) total size of their accounts\n",
    "a list/count of langgauges used\n",
    "a list/count of repo topics"
   ]
  },
  {
   "cell_type": "code",
   "execution_count": 190,
   "metadata": {},
   "outputs": [
    {
     "name": "stdout",
     "output_type": "stream",
     "text": [
      "Total Number of Commits in public (non-forked) repos: 11\n"
     ]
    }
   ],
   "source": [
    "print(f'Total Number of Commits in public (non-forked) repos: {len(all_commits)}')"
   ]
  },
  {
   "cell_type": "code",
   "execution_count": null,
   "metadata": {
    "collapsed": true
   },
   "outputs": [],
   "source": []
  },
  {
   "cell_type": "code",
   "execution_count": 195,
   "metadata": {},
   "outputs": [],
   "source": [
    "repo_sizes = [repo['size'] for repo in all_repos]\n",
    "total_size = sum(repo_sizes)"
   ]
  },
  {
   "cell_type": "code",
   "execution_count": 196,
   "metadata": {},
   "outputs": [
    {
     "name": "stdout",
     "output_type": "stream",
     "text": [
      "Total Size of Account: 20822093\n"
     ]
    }
   ],
   "source": [
    "print(f'Total Size of Account: {total_size}')"
   ]
  },
  {
   "cell_type": "code",
   "execution_count": null,
   "metadata": {
    "collapsed": true
   },
   "outputs": [],
   "source": []
  },
  {
   "cell_type": "code",
   "execution_count": 208,
   "metadata": {},
   "outputs": [
    {
     "name": "stdout",
     "output_type": "stream",
     "text": [
      "Repo languages: ['python']\n"
     ]
    }
   ],
   "source": [
    "repo_languages = [repo['language'] for repo in all_repos]\n",
    "\n",
    "languages = set(repo_languages)\n",
    "if '' in languages:\n",
    "    languages.remove('')\n",
    "\n",
    "print(f'Repo languages: {list(set(languages))}')"
   ]
  },
  {
   "cell_type": "code",
   "execution_count": null,
   "metadata": {
    "collapsed": true
   },
   "outputs": [],
   "source": []
  }
 ],
 "metadata": {
  "kernelspec": {
   "display_name": "Python 3",
   "language": "python",
   "name": "python3"
  },
  "language_info": {
   "codemirror_mode": {
    "name": "ipython",
    "version": 3
   },
   "file_extension": ".py",
   "mimetype": "text/x-python",
   "name": "python",
   "nbconvert_exporter": "python",
   "pygments_lexer": "ipython3",
   "version": "3.6.2"
  }
 },
 "nbformat": 4,
 "nbformat_minor": 2
}
