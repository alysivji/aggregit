{
 "cells": [
  {
   "cell_type": "code",
   "execution_count": 473,
   "metadata": {
    "collapsed": true
   },
   "outputs": [],
   "source": [
    "import json\n",
    "import os\n",
    "from typing import Any, Dict, NamedTuple\n",
    "import urllib\n",
    "\n",
    "import requests"
   ]
  },
  {
   "cell_type": "code",
   "execution_count": 474,
   "metadata": {
    "collapsed": true
   },
   "outputs": [],
   "source": [
    "username = 'alysivji'"
   ]
  },
  {
   "cell_type": "code",
   "execution_count": 475,
   "metadata": {
    "collapsed": true
   },
   "outputs": [],
   "source": [
    "GITHUB_TOKEN = os.getenv('GITHUB_TOKEN')"
   ]
  },
  {
   "cell_type": "code",
   "execution_count": 476,
   "metadata": {
    "collapsed": true
   },
   "outputs": [],
   "source": [
    "_HEADERS = {\n",
    "    'User-Agent': 'Aggregit',\n",
    "    'Authorization': f'token {GITHUB_TOKEN}',\n",
    "}\n",
    "_GITHUB_API_URL = 'https://api.github.com'"
   ]
  },
  {
   "cell_type": "code",
   "execution_count": 477,
   "metadata": {},
   "outputs": [],
   "source": [
    "class Response(NamedTuple):\n",
    "    json: Dict[str, Any]\n",
    "    headers: Dict[str, str]"
   ]
  },
  {
   "cell_type": "markdown",
   "metadata": {},
   "source": [
    "\n",
    "## Helper Function"
   ]
  },
  {
   "cell_type": "code",
   "execution_count": 478,
   "metadata": {
    "collapsed": true
   },
   "outputs": [],
   "source": [
    "def _extract_page_from_link_header(link):\n",
    "    \"\"\"\n",
    "    Helper function to extract page \n",
    "    \"\"\"\n",
    "    extracted_url = link.split('<')[1].split('>')[0]\n",
    "    url_details = urllib.parse.urlparse(extracted_url)\n",
    "    query_string = url_details.query\n",
    "    params = urllib.parse.parse_qs(query_string)\n",
    "    return int(params['page'][0])\n",
    "\n",
    "assert _extract_page_from_link_header('<https://api.github.com/user/4369343/repos?type=all&page=2>; rel=\"last\"') == 2"
   ]
  },
  {
   "cell_type": "code",
   "execution_count": 479,
   "metadata": {
    "collapsed": true
   },
   "outputs": [],
   "source": [
    "def github_api_get(endpoint, *, params={}):\n",
    "    \"\"\"\n",
    "    Given GitHub endpoint, returns JSON response and headers\n",
    "    \"\"\"\n",
    "    # remove leading slash from endpoint if it is included\n",
    "    if endpoint[0] == '/':\n",
    "        endpoint = endpoint[1:]\n",
    "        \n",
    "    r = requests.get(f'{_GITHUB_API_URL}/{endpoint}', headers=_HEADERS, params=params)\n",
    "    \n",
    "    return Response(r.json(), r.headers)"
   ]
  },
  {
   "cell_type": "code",
   "execution_count": 480,
   "metadata": {
    "collapsed": true
   },
   "outputs": [],
   "source": [
    "def get_all_items(endpoint):\n",
    "    all_items = []\n",
    "\n",
    "    # get items from first page\n",
    "    resp = github_api_get(endpoint, params={'type': 'all', 'page': 1})\n",
    "    r_json = resp.json\n",
    "    r_headers = resp.headers\n",
    "    all_items.extend(r_json)\n",
    "\n",
    "    # if multiple pages, pull all items\n",
    "    if r_headers.get('Link', None):\n",
    "        for link in r_headers['Link'].split(', '):\n",
    "            if 'rel=\"last\"' in link:\n",
    "                last_page = _extract_page(link)\n",
    "\n",
    "        for page in range(2, last_page + 1):\n",
    "            r_json, _ = github_api_get(endpoint, params={'type': 'all', 'page': page})\n",
    "\n",
    "            all_items.extend(r_json)\n",
    "            \n",
    "    return all_items"
   ]
  },
  {
   "cell_type": "markdown",
   "metadata": {},
   "source": [
    "## Get All Repos"
   ]
  },
  {
   "cell_type": "code",
   "execution_count": 481,
   "metadata": {
    "collapsed": true
   },
   "outputs": [],
   "source": [
    "all_repos_endpoint = f'users/{username}/repos'\n",
    "all_repos = get_all_items(all_repos_endpoint)"
   ]
  },
  {
   "cell_type": "markdown",
   "metadata": {},
   "source": [
    "### Sample Point"
   ]
  },
  {
   "cell_type": "code",
   "execution_count": 482,
   "metadata": {
    "scrolled": false
   },
   "outputs": [
    {
     "data": {
      "text/plain": [
       "{'archive_url': 'https://api.github.com/repos/alysivji/20180215-chipy-project-night/{archive_format}{/ref}',\n",
       " 'archived': False,\n",
       " 'assignees_url': 'https://api.github.com/repos/alysivji/20180215-chipy-project-night/assignees{/user}',\n",
       " 'blobs_url': 'https://api.github.com/repos/alysivji/20180215-chipy-project-night/git/blobs{/sha}',\n",
       " 'branches_url': 'https://api.github.com/repos/alysivji/20180215-chipy-project-night/branches{/branch}',\n",
       " 'clone_url': 'https://github.com/alysivji/20180215-chipy-project-night.git',\n",
       " 'collaborators_url': 'https://api.github.com/repos/alysivji/20180215-chipy-project-night/collaborators{/collaborator}',\n",
       " 'comments_url': 'https://api.github.com/repos/alysivji/20180215-chipy-project-night/comments{/number}',\n",
       " 'commits_url': 'https://api.github.com/repos/alysivji/20180215-chipy-project-night/commits{/sha}',\n",
       " 'compare_url': 'https://api.github.com/repos/alysivji/20180215-chipy-project-night/compare/{base}...{head}',\n",
       " 'contents_url': 'https://api.github.com/repos/alysivji/20180215-chipy-project-night/contents/{+path}',\n",
       " 'contributors_url': 'https://api.github.com/repos/alysivji/20180215-chipy-project-night/contributors',\n",
       " 'created_at': '2018-02-16T14:20:45Z',\n",
       " 'default_branch': 'master',\n",
       " 'deployments_url': 'https://api.github.com/repos/alysivji/20180215-chipy-project-night/deployments',\n",
       " 'description': None,\n",
       " 'downloads_url': 'https://api.github.com/repos/alysivji/20180215-chipy-project-night/downloads',\n",
       " 'events_url': 'https://api.github.com/repos/alysivji/20180215-chipy-project-night/events',\n",
       " 'fork': False,\n",
       " 'forks': 0,\n",
       " 'forks_count': 0,\n",
       " 'forks_url': 'https://api.github.com/repos/alysivji/20180215-chipy-project-night/forks',\n",
       " 'full_name': 'alysivji/20180215-chipy-project-night',\n",
       " 'git_commits_url': 'https://api.github.com/repos/alysivji/20180215-chipy-project-night/git/commits{/sha}',\n",
       " 'git_refs_url': 'https://api.github.com/repos/alysivji/20180215-chipy-project-night/git/refs{/sha}',\n",
       " 'git_tags_url': 'https://api.github.com/repos/alysivji/20180215-chipy-project-night/git/tags{/sha}',\n",
       " 'git_url': 'git://github.com/alysivji/20180215-chipy-project-night.git',\n",
       " 'has_downloads': True,\n",
       " 'has_issues': True,\n",
       " 'has_pages': False,\n",
       " 'has_projects': True,\n",
       " 'has_wiki': True,\n",
       " 'homepage': None,\n",
       " 'hooks_url': 'https://api.github.com/repos/alysivji/20180215-chipy-project-night/hooks',\n",
       " 'html_url': 'https://github.com/alysivji/20180215-chipy-project-night',\n",
       " 'id': 121759076,\n",
       " 'issue_comment_url': 'https://api.github.com/repos/alysivji/20180215-chipy-project-night/issues/comments{/number}',\n",
       " 'issue_events_url': 'https://api.github.com/repos/alysivji/20180215-chipy-project-night/issues/events{/number}',\n",
       " 'issues_url': 'https://api.github.com/repos/alysivji/20180215-chipy-project-night/issues{/number}',\n",
       " 'keys_url': 'https://api.github.com/repos/alysivji/20180215-chipy-project-night/keys{/key_id}',\n",
       " 'labels_url': 'https://api.github.com/repos/alysivji/20180215-chipy-project-night/labels{/name}',\n",
       " 'language': 'Python',\n",
       " 'languages_url': 'https://api.github.com/repos/alysivji/20180215-chipy-project-night/languages',\n",
       " 'license': None,\n",
       " 'merges_url': 'https://api.github.com/repos/alysivji/20180215-chipy-project-night/merges',\n",
       " 'milestones_url': 'https://api.github.com/repos/alysivji/20180215-chipy-project-night/milestones{/number}',\n",
       " 'mirror_url': None,\n",
       " 'name': '20180215-chipy-project-night',\n",
       " 'notifications_url': 'https://api.github.com/repos/alysivji/20180215-chipy-project-night/notifications{?since,all,participating}',\n",
       " 'open_issues': 0,\n",
       " 'open_issues_count': 0,\n",
       " 'owner': {'avatar_url': 'https://avatars0.githubusercontent.com/u/4369343?v=4',\n",
       "  'events_url': 'https://api.github.com/users/alysivji/events{/privacy}',\n",
       "  'followers_url': 'https://api.github.com/users/alysivji/followers',\n",
       "  'following_url': 'https://api.github.com/users/alysivji/following{/other_user}',\n",
       "  'gists_url': 'https://api.github.com/users/alysivji/gists{/gist_id}',\n",
       "  'gravatar_id': '',\n",
       "  'html_url': 'https://github.com/alysivji',\n",
       "  'id': 4369343,\n",
       "  'login': 'alysivji',\n",
       "  'organizations_url': 'https://api.github.com/users/alysivji/orgs',\n",
       "  'received_events_url': 'https://api.github.com/users/alysivji/received_events',\n",
       "  'repos_url': 'https://api.github.com/users/alysivji/repos',\n",
       "  'site_admin': False,\n",
       "  'starred_url': 'https://api.github.com/users/alysivji/starred{/owner}{/repo}',\n",
       "  'subscriptions_url': 'https://api.github.com/users/alysivji/subscriptions',\n",
       "  'type': 'User',\n",
       "  'url': 'https://api.github.com/users/alysivji'},\n",
       " 'permissions': {'admin': True, 'pull': True, 'push': True},\n",
       " 'private': False,\n",
       " 'pulls_url': 'https://api.github.com/repos/alysivji/20180215-chipy-project-night/pulls{/number}',\n",
       " 'pushed_at': '2018-02-16T14:20:58Z',\n",
       " 'releases_url': 'https://api.github.com/repos/alysivji/20180215-chipy-project-night/releases{/id}',\n",
       " 'size': 5,\n",
       " 'ssh_url': 'git@github.com:alysivji/20180215-chipy-project-night.git',\n",
       " 'stargazers_count': 0,\n",
       " 'stargazers_url': 'https://api.github.com/repos/alysivji/20180215-chipy-project-night/stargazers',\n",
       " 'statuses_url': 'https://api.github.com/repos/alysivji/20180215-chipy-project-night/statuses/{sha}',\n",
       " 'subscribers_url': 'https://api.github.com/repos/alysivji/20180215-chipy-project-night/subscribers',\n",
       " 'subscription_url': 'https://api.github.com/repos/alysivji/20180215-chipy-project-night/subscription',\n",
       " 'svn_url': 'https://github.com/alysivji/20180215-chipy-project-night',\n",
       " 'tags_url': 'https://api.github.com/repos/alysivji/20180215-chipy-project-night/tags',\n",
       " 'teams_url': 'https://api.github.com/repos/alysivji/20180215-chipy-project-night/teams',\n",
       " 'trees_url': 'https://api.github.com/repos/alysivji/20180215-chipy-project-night/git/trees{/sha}',\n",
       " 'updated_at': '2018-02-16T14:20:59Z',\n",
       " 'url': 'https://api.github.com/repos/alysivji/20180215-chipy-project-night',\n",
       " 'watchers': 0,\n",
       " 'watchers_count': 0}"
      ]
     },
     "execution_count": 482,
     "metadata": {},
     "output_type": "execute_result"
    }
   ],
   "source": [
    "all_repos[0]"
   ]
  },
  {
   "cell_type": "markdown",
   "metadata": {},
   "source": [
    "---"
   ]
  },
  {
   "cell_type": "code",
   "execution_count": 318,
   "metadata": {
    "collapsed": true
   },
   "outputs": [],
   "source": [
    "repo_names = [item['name'] for item in all_repos]\n",
    "repo_urls = [item['url'] for item in all_repos]"
   ]
  },
  {
   "cell_type": "code",
   "execution_count": null,
   "metadata": {
    "collapsed": true
   },
   "outputs": [],
   "source": []
  },
  {
   "cell_type": "markdown",
   "metadata": {},
   "source": [
    "## Calculate Stats"
   ]
  },
  {
   "cell_type": "code",
   "execution_count": 242,
   "metadata": {
    "collapsed": true
   },
   "outputs": [],
   "source": [
    "originals = [item['name'] for item in all_repos if item['fork'] is False]\n",
    "forks = [item['name'] for item in all_repos if item['fork'] is True]\n",
    "\n",
    "assert len(originals) + len(forks) == len(all_repos)"
   ]
  },
  {
   "cell_type": "code",
   "execution_count": 322,
   "metadata": {},
   "outputs": [
    {
     "name": "stdout",
     "output_type": "stream",
     "text": [
      "Total Num of Original Repos: 38\n",
      "Total Num of Forked Repos: 13\n"
     ]
    }
   ],
   "source": [
    "print(f'Total Num of Original Repos: {len(originals)}')\n",
    "print(f'Total Num of Forked Repos: {len(forks)}')"
   ]
  },
  {
   "cell_type": "code",
   "execution_count": null,
   "metadata": {
    "collapsed": true
   },
   "outputs": [],
   "source": []
  },
  {
   "cell_type": "code",
   "execution_count": 319,
   "metadata": {
    "collapsed": true
   },
   "outputs": [],
   "source": [
    "all_followers_endpoint = f'users/{username}/followers'\n",
    "followers = get_all_items(all_followers_endpoint)"
   ]
  },
  {
   "cell_type": "code",
   "execution_count": 323,
   "metadata": {},
   "outputs": [
    {
     "name": "stdout",
     "output_type": "stream",
     "text": [
      "Total Num of Followers: 55\n"
     ]
    }
   ],
   "source": [
    "print(f'Total Num of Followers: {len(followers)}')"
   ]
  },
  {
   "cell_type": "code",
   "execution_count": null,
   "metadata": {
    "collapsed": true
   },
   "outputs": [],
   "source": []
  },
  {
   "cell_type": "code",
   "execution_count": 324,
   "metadata": {
    "collapsed": true
   },
   "outputs": [],
   "source": [
    "all_watchers_endpoint = f'users/{username}/subscriptions'\n",
    "watchers = get_all_items(all_watchers_endpoint)"
   ]
  },
  {
   "cell_type": "code",
   "execution_count": 333,
   "metadata": {},
   "outputs": [
    {
     "name": "stdout",
     "output_type": "stream",
     "text": [
      "Total Num of Repos Watched: 8\n"
     ]
    }
   ],
   "source": [
    "print(f'Total Num of Repos Watched: {len(watchers)}')"
   ]
  },
  {
   "cell_type": "code",
   "execution_count": null,
   "metadata": {
    "collapsed": true
   },
   "outputs": [],
   "source": []
  },
  {
   "cell_type": "code",
   "execution_count": 347,
   "metadata": {
    "collapsed": true
   },
   "outputs": [],
   "source": [
    "stars_recieved = sum([item['stargazers_count'] for item in all_repos])"
   ]
  },
  {
   "cell_type": "code",
   "execution_count": 349,
   "metadata": {},
   "outputs": [
    {
     "name": "stdout",
     "output_type": "stream",
     "text": [
      "Total Num of Stars Recieved: 32\n"
     ]
    }
   ],
   "source": [
    "print(f'Total Num of Stars Recieved: {stars_recieved}')"
   ]
  },
  {
   "cell_type": "code",
   "execution_count": null,
   "metadata": {
    "collapsed": true
   },
   "outputs": [],
   "source": []
  },
  {
   "cell_type": "code",
   "execution_count": 350,
   "metadata": {
    "collapsed": true
   },
   "outputs": [],
   "source": [
    "all_stars_given = f'users/{username}/starred'\n",
    "stars_given = get_all_items(all_stars_given)"
   ]
  },
  {
   "cell_type": "code",
   "execution_count": 354,
   "metadata": {},
   "outputs": [
    {
     "name": "stdout",
     "output_type": "stream",
     "text": [
      "Total Num of Stars Recieved: 310\n"
     ]
    }
   ],
   "source": [
    "print(f'Total Num of Stars Recieved: {len(stars_given)}')"
   ]
  },
  {
   "cell_type": "code",
   "execution_count": null,
   "metadata": {
    "collapsed": true
   },
   "outputs": [],
   "source": []
  },
  {
   "cell_type": "code",
   "execution_count": 355,
   "metadata": {
    "collapsed": true
   },
   "outputs": [],
   "source": [
    "repo_sizes = [item['size'] for item in all_repos]\n",
    "total_size = sum(repo_sizes)"
   ]
  },
  {
   "cell_type": "code",
   "execution_count": 357,
   "metadata": {},
   "outputs": [
    {
     "name": "stdout",
     "output_type": "stream",
     "text": [
      "Total Size of Account: 293297\n"
     ]
    }
   ],
   "source": [
    "print(f'Total Size of Account: {total_size}')"
   ]
  },
  {
   "cell_type": "code",
   "execution_count": null,
   "metadata": {
    "collapsed": true
   },
   "outputs": [],
   "source": []
  },
  {
   "cell_type": "code",
   "execution_count": 359,
   "metadata": {
    "collapsed": true
   },
   "outputs": [],
   "source": [
    "open_issues_list = [item['open_issues_count'] for item in all_repos if item['fork'] is False]\n",
    "open_issues = sum(open_issues_list)"
   ]
  },
  {
   "cell_type": "code",
   "execution_count": 360,
   "metadata": {},
   "outputs": [
    {
     "name": "stdout",
     "output_type": "stream",
     "text": [
      "Total Number of Open Issues in Repos: 2\n"
     ]
    }
   ],
   "source": [
    "print(f'Total Number of Open Issues in Repos: {open_issues}')"
   ]
  },
  {
   "cell_type": "markdown",
   "metadata": {},
   "source": [
    "### Number of Commits"
   ]
  },
  {
   "cell_type": "code",
   "execution_count": 395,
   "metadata": {},
   "outputs": [],
   "source": [
    "original_repos = [item['commits_url'] for item in all_repos if item['fork'] is False]"
   ]
  },
  {
   "cell_type": "code",
   "execution_count": 423,
   "metadata": {},
   "outputs": [],
   "source": [
    "repo_commit_endpoints = [repo.split('{/sha}')[0].split('https://api.github.com/')[1]\n",
    "                         for repo in original_repos]"
   ]
  },
  {
   "cell_type": "code",
   "execution_count": 406,
   "metadata": {
    "collapsed": true
   },
   "outputs": [
    {
     "name": "stdout",
     "output_type": "stream",
     "text": [
      "https://api.github.com/repos/alysivji/20180215-chipy-project-night/commits\n",
      "https://api.github.com/repos/alysivji/20180315-chipy-project-night/commits\n",
      "https://api.github.com/repos/alysivji/advent-of-code-2017/commits\n",
      "https://api.github.com/repos/alysivji/alysivji.github.io/commits\n",
      "https://api.github.com/repos/alysivji/alysivji.github.io/commits\n",
      "https://api.github.com/repos/alysivji/alysivji.github.io/commits\n",
      "https://api.github.com/repos/alysivji/area-code-alexa-skill/commits\n",
      "https://api.github.com/repos/alysivji/blog/commits\n",
      "https://api.github.com/repos/alysivji/blog/commits\n",
      "https://api.github.com/repos/alysivji/blog-notebooks/commits\n",
      "https://api.github.com/repos/alysivji/chipy-python-project-night-prompt/commits\n",
      "https://api.github.com/repos/alysivji/chipy-python-project-night-prompt/commits\n",
      "https://api.github.com/repos/alysivji/chipy-python-project-night-prompt/commits\n",
      "https://api.github.com/repos/alysivji/codeeveryday-hashtag-dashboard/commits\n",
      "https://api.github.com/repos/alysivji/connect-four/commits\n",
      "https://api.github.com/repos/alysivji/crud-api-example/commits\n",
      "https://api.github.com/repos/alysivji/data-structures-tdd/commits\n",
      "https://api.github.com/repos/alysivji/deck-of-cards-tdd/commits\n",
      "https://api.github.com/repos/alysivji/divvy-station-heatmap-folium/commits\n",
      "https://api.github.com/repos/alysivji/django-docs-tutorial/commits\n",
      "https://api.github.com/repos/alysivji/django-girls-tutorial/commits\n",
      "https://api.github.com/repos/alysivji/dotfiles/commits\n",
      "https://api.github.com/repos/alysivji/dotfiles/commits\n",
      "https://api.github.com/repos/alysivji/flask-mega-tutorial/commits\n",
      "https://api.github.com/repos/alysivji/gif-search-react/commits\n",
      "https://api.github.com/repos/alysivji/historical-results-dashboard/commits\n",
      "https://api.github.com/repos/alysivji/leaders-481/commits\n",
      "https://api.github.com/repos/alysivji/notes/commits\n",
      "https://api.github.com/repos/alysivji/notes/commits\n",
      "https://api.github.com/repos/alysivji/populate-database/commits\n",
      "https://api.github.com/repos/alysivji/python-cookiecutter/commits\n",
      "https://api.github.com/repos/alysivji/qt-sql-find-n-replace/commits\n",
      "https://api.github.com/repos/alysivji/reddit-top-posts-email-from-mongodb/commits\n",
      "https://api.github.com/repos/alysivji/reddit-top-posts-scrapy/commits\n",
      "https://api.github.com/repos/alysivji/reddit-top-posts-website-flask/commits\n",
      "https://api.github.com/repos/alysivji/scrapy-charlie-rose-episodes/commits\n",
      "https://api.github.com/repos/alysivji/sivlog/commits\n",
      "https://api.github.com/repos/alysivji/sivmetrics-backend/commits\n",
      "https://api.github.com/repos/alysivji/sivmetrics-dashboard/commits\n",
      "https://api.github.com/repos/alysivji/sivtools/commits\n",
      "https://api.github.com/repos/alysivji/sivtools-data/commits\n",
      "https://api.github.com/repos/alysivji/talks/commits\n",
      "https://api.github.com/repos/alysivji/talks/commits\n",
      "https://api.github.com/repos/alysivji/tic-tac-toe/commits\n",
      "https://api.github.com/repos/alysivji/twilio-client/commits\n",
      "https://api.github.com/repos/docker-for-data-science/docker-for-data-science-tutorial/commits\n"
     ]
    }
   ],
   "source": [
    "commits = []\n",
    "\n",
    "for repo in repo_commit_endpoints:\n",
    "    repo_commits = get_all_items(repo)\n",
    "    commits.extend(repo_commits)"
   ]
  },
  {
   "cell_type": "code",
   "execution_count": 410,
   "metadata": {},
   "outputs": [
    {
     "name": "stdout",
     "output_type": "stream",
     "text": [
      "Total Number of Commits in public (non-forked) repos: 559\n"
     ]
    }
   ],
   "source": [
    "print(f'Total Number of Commits in public (non-forked) repos: {len(commits)}')"
   ]
  },
  {
   "cell_type": "markdown",
   "metadata": {},
   "source": [
    "### Languages"
   ]
  },
  {
   "cell_type": "code",
   "execution_count": 446,
   "metadata": {},
   "outputs": [],
   "source": [
    "repo_language_endpoints = [repo['languages_url'] for repo in all_repos]"
   ]
  },
  {
   "cell_type": "code",
   "execution_count": 449,
   "metadata": {},
   "outputs": [],
   "source": [
    "repo_languages = []\n",
    "for repo_endpoint in repo_language_endpoints:\n",
    "    r = requests.get(repo_endpoint, headers=_HEADERS)\n",
    "    repo_languages.extend(list(r.json().keys()))"
   ]
  },
  {
   "cell_type": "code",
   "execution_count": 452,
   "metadata": {},
   "outputs": [
    {
     "name": "stdout",
     "output_type": "stream",
     "text": [
      "Repo languages: ['C++', 'Shell', 'Smarty', 'Mako', 'Jupyter Notebook', 'Ruby', 'HTML', 'CSS', 'Vim script', 'Python', 'C', 'JavaScript', 'Makefile', 'Batchfile', 'PowerShell']\n"
     ]
    }
   ],
   "source": [
    "print(f'Repo languages: {list(set(repo_languages))}')"
   ]
  },
  {
   "cell_type": "markdown",
   "metadata": {},
   "source": [
    "### Topics"
   ]
  },
  {
   "cell_type": "code",
   "execution_count": 483,
   "metadata": {
    "collapsed": true
   },
   "outputs": [],
   "source": [
    "topic_headers = dict(_HEADERS)\n",
    "topic_headers['Accept'] = 'application/vnd.github.mercy-preview+json'"
   ]
  },
  {
   "cell_type": "code",
   "execution_count": 484,
   "metadata": {},
   "outputs": [],
   "source": [
    "repo_topics = []\n",
    "\n",
    "for repo in all_repos:\n",
    "    repo_topic_url = f\"{repo['url']}/topics\"\n",
    "    r = requests.get(repo_topic_url, headers=topic_headers)\n",
    "    \n",
    "    repo_topics.extend(r.json()['names'])"
   ]
  },
  {
   "cell_type": "code",
   "execution_count": 485,
   "metadata": {},
   "outputs": [
    {
     "name": "stdout",
     "output_type": "stream",
     "text": [
      "Repo topics: ['reddit', 'scrapy', 'mongodb', 'scraping']\n"
     ]
    }
   ],
   "source": [
    "print(f'Repo topics: {list(set(repo_topics))}')"
   ]
  },
  {
   "cell_type": "code",
   "execution_count": null,
   "metadata": {
    "collapsed": true
   },
   "outputs": [],
   "source": []
  }
 ],
 "metadata": {
  "kernelspec": {
   "display_name": "Python 3",
   "language": "python",
   "name": "python3"
  },
  "language_info": {
   "codemirror_mode": {
    "name": "ipython",
    "version": 3
   },
   "file_extension": ".py",
   "mimetype": "text/x-python",
   "name": "python",
   "nbconvert_exporter": "python",
   "pygments_lexer": "ipython3",
   "version": "3.6.2"
  }
 },
 "nbformat": 4,
 "nbformat_minor": 2
}
